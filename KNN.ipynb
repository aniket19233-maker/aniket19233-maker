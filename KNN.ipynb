{
 "cells": [
  {
   "cell_type": "code",
   "execution_count": 1,
   "id": "45a37c61-b0cb-491d-9c27-dc3a19aa1f90",
   "metadata": {},
   "outputs": [],
   "source": [
    "import pandas as pd\n",
    "import numpy as np\n",
    "import matplotlib.pyplot as plt"
   ]
  },
  {
   "cell_type": "code",
   "execution_count": 2,
   "id": "e9853672-c49e-429c-acf7-f94cf1af0f36",
   "metadata": {},
   "outputs": [],
   "source": [
    "def dist(x1, x2):\n",
    "    return np.sqrt((sum(x1-x2)**2))"
   ]
  },
  {
   "cell_type": "code",
   "execution_count": 6,
   "id": "02221765-4527-4572-bce1-827a30d061fb",
   "metadata": {},
   "outputs": [],
   "source": [
    "def knn(X, Y, queryPoint, k=5):\n",
    "    #X is list of coordinates\n",
    "    # Y is the label i.e. which class it belongs to\n",
    "    vals = []\n",
    "    m = X.shape[0] # size of the array\n",
    "    for i in range(m):\n",
    "        d = dist(queryPoint, X[i]) #distance between querypoint\n",
    "        vals.append((d, Y[i]))   # distance of the point, label (0 or 1)\n",
    "        \n",
    "    vals = sorted(vals) # sort the list according to the distances computed\n",
    "    #Nearest/First K points\n",
    "    vals = vals[:k]\n",
    "    vals = np.array(vals)\n",
    "    new_vals = np.unique(vals[:,1], return_counts = True)\n",
    "    max_freq_index = new_vals[1].argmax()          # index with maximum frequency\n",
    "    pred = new_vals[0][max_freq_index]\n",
    "    return pred"
   ]
  },
  {
   "cell_type": "code",
   "execution_count": null,
   "id": "93038151-b933-464f-99f0-06b38b0f03da",
   "metadata": {},
   "outputs": [],
   "source": []
  },
  {
   "cell_type": "code",
   "execution_count": null,
   "id": "43333fee-3545-4fca-94bc-102efc8949c1",
   "metadata": {},
   "outputs": [],
   "source": []
  },
  {
   "cell_type": "code",
   "execution_count": null,
   "id": "99d464fd-460b-48cb-8d3f-2177b2662e7f",
   "metadata": {},
   "outputs": [],
   "source": []
  }
 ],
 "metadata": {
  "kernelspec": {
   "display_name": "Python 3",
   "language": "python",
   "name": "python3"
  },
  "language_info": {
   "codemirror_mode": {
    "name": "ipython",
    "version": 3
   },
   "file_extension": ".py",
   "mimetype": "text/x-python",
   "name": "python",
   "nbconvert_exporter": "python",
   "pygments_lexer": "ipython3",
   "version": "3.8.10"
  }
 },
 "nbformat": 4,
 "nbformat_minor": 5
}
